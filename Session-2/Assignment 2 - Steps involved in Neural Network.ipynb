{
 "cells": [
  {
   "cell_type": "code",
   "execution_count": 286,
   "metadata": {},
   "outputs": [],
   "source": [
    "import numpy as np\n",
    "\n",
    "# Input array\n",
    "X = np.array([\n",
    "  [1, 0, 1, 0],\n",
    "  [1, 0, 1, 1],\n",
    "  [0, 1, 0, 1]\n",
    "])\n",
    "\n",
    "# Output\n",
    "y = np.array([\n",
    "  [1],\n",
    "  [1],\n",
    "  [0]\n",
    "])"
   ]
  },
  {
   "cell_type": "code",
   "execution_count": 287,
   "metadata": {},
   "outputs": [],
   "source": [
    "# Sigmoid Function\n",
    "def sigmoid(x):\n",
    "  return 1 / (1 + np.exp(-x))\n",
    "\n",
    "# Derivative of Sigmoid Function\n",
    "def derivatives_sigmoid(x):\n",
    "  return x * (1 - x)"
   ]
  },
  {
   "cell_type": "code",
   "execution_count": 288,
   "metadata": {},
   "outputs": [],
   "source": [
    "# Variable initialization\n",
    "epoch = 10# Setting training iterations\n",
    "lr = 0.1# Setting learning rate\n",
    "inputlayer_neurons = X.shape[1]# number of features in data set\n",
    "hiddenlayer_neurons = 3# number of hidden layers neurons\n",
    "output_neurons = 1# number of neurons at output laye"
   ]
  },
  {
   "cell_type": "code",
   "execution_count": 289,
   "metadata": {},
   "outputs": [],
   "source": [
    "# Variable initialization\n",
    "epoch = 10000# Setting training iterations\n",
    "lr = 0.1# Setting learning rate\n",
    "inputlayer_neurons = X.shape[1]# number of features in data set\n",
    "hiddenlayer_neurons = 3# number of hidden layers neurons\n",
    "output_neurons = 1# number of neurons at output laye"
   ]
  },
  {
   "cell_type": "code",
   "execution_count": 290,
   "metadata": {},
   "outputs": [
    {
     "name": "stdout",
     "output_type": "stream",
     "text": [
      "[[0.3551566, 0.84190762, 0.53471872], [0.36546163, 0.56467793, 0.60785994], [0.31807149, 0.87007041, 0.03385379], [0.63940456, 0.04343982, 0.10878098]]\n"
     ]
    }
   ],
   "source": [
    "# weight and bias initialization\n",
    "#wh = np.random.uniform(size = (inputlayer_neurons, hiddenlayer_neurons))\n",
    "wh = [[0.3551566,  0.84190762, 0.53471872],\n",
    " [0.36546163, 0.56467793, 0.60785994],\n",
    " [0.31807149, 0.87007041, 0.03385379],\n",
    " [0.63940456, 0.04343982, 0.10878098]]\n",
    "print(wh)"
   ]
  },
  {
   "cell_type": "code",
   "execution_count": 291,
   "metadata": {},
   "outputs": [
    {
     "name": "stdout",
     "output_type": "stream",
     "text": [
      "[[0.27435179, 0.55661571, 0.31721594]]\n"
     ]
    }
   ],
   "source": [
    "#bh = np.random.uniform(size = (1, hiddenlayer_neurons))\n",
    "bh = [[0.27435179, 0.55661571, 0.31721594]]\n",
    "print(bh)"
   ]
  },
  {
   "cell_type": "code",
   "execution_count": 292,
   "metadata": {},
   "outputs": [
    {
     "name": "stdout",
     "output_type": "stream",
     "text": [
      "[[0.0287452], [0.37461094], [0.32445336]]\n"
     ]
    }
   ],
   "source": [
    "#wout = np.random.uniform(size = (hiddenlayer_neurons, output_neurons))\n",
    "wout = [[0.0287452 ],\n",
    " [0.37461094],\n",
    " [0.32445336]]\n",
    "print(wout)"
   ]
  },
  {
   "cell_type": "code",
   "execution_count": 293,
   "metadata": {},
   "outputs": [
    {
     "name": "stdout",
     "output_type": "stream",
     "text": [
      "[[0.08784717]]\n"
     ]
    }
   ],
   "source": [
    "#bout = np.random.uniform(size = (1, output_neurons))\n",
    "bout = [[0.08784717]]\n",
    "print(bout)"
   ]
  },
  {
   "cell_type": "markdown",
   "metadata": {},
   "source": [
    "for i in range(epoch):\n",
    "  #Forward Propogation\n",
    "  hidden_layer_input1 = np.dot(X, wh)\n",
    "  hidden_layer_input = hidden_layer_input1 + bh\n",
    "  hiddenlayer_activations = sigmoid(hidden_layer_input)\n",
    "  output_layer_input1 = np.dot(hiddenlayer_activations, wout)\n",
    "  output_layer_input = output_layer_input1 + bout\n",
    "  output = sigmoid(output_layer_input)\n",
    "\n",
    "  \n",
    "  # Backpropagation\n",
    "  E = y - output\n",
    "  slope_output_layer = derivatives_sigmoid(output)\n",
    "  slope_hidden_layer = derivatives_sigmoid(hiddenlayer_activations)\n",
    "  d_output = E * slope_output_layer\n",
    "  Error_at_hidden_layer = d_output.dot(wout.T)\n",
    "  d_hiddenlayer = Error_at_hidden_layer * slope_hidden_layer\n",
    "  wout += hiddenlayer_activations.T.dot(d_output) * lr\n",
    "  bout += np.sum(d_output, axis = 0, keepdims = True) * lr\n",
    "  wh += X.T.dot(d_hiddenlayer) * lr\n",
    "  bh += np.sum(d_hiddenlayer, axis = 0, keepdims = True) * lr\n",
    "\n",
    "print(output)"
   ]
  },
  {
   "cell_type": "markdown",
   "metadata": {},
   "source": [
    "### Epoch#1"
   ]
  },
  {
   "cell_type": "code",
   "execution_count": 294,
   "metadata": {},
   "outputs": [
    {
     "name": "stdout",
     "output_type": "stream",
     "text": [
      "[[0.67322809 1.71197803 0.56857251]\n",
      " [1.31263265 1.75541785 0.67735349]\n",
      " [1.00486619 0.60811775 0.71664092]]\n"
     ]
    }
   ],
   "source": [
    "hidden_layer_input1 = np.dot(X, wh)\n",
    "print(hidden_layer_input1)"
   ]
  },
  {
   "cell_type": "code",
   "execution_count": 295,
   "metadata": {},
   "outputs": [
    {
     "name": "stdout",
     "output_type": "stream",
     "text": [
      "[[0.94757988 2.26859374 0.88578845]\n",
      " [1.58698444 2.31203356 0.99456943]\n",
      " [1.27921798 1.16473346 1.03385686]]\n"
     ]
    }
   ],
   "source": [
    "hidden_layer_input = hidden_layer_input1 + bh\n",
    "print(hidden_layer_input)"
   ]
  },
  {
   "cell_type": "code",
   "execution_count": 296,
   "metadata": {},
   "outputs": [
    {
     "name": "stdout",
     "output_type": "stream",
     "text": [
      "[[0.72062821 0.90624237 0.70802029]\n",
      " [0.83019141 0.90986876 0.72998952]\n",
      " [0.78231663 0.76219174 0.73766295]]\n"
     ]
    }
   ],
   "source": [
    "hiddenlayer_activations = sigmoid(hidden_layer_input)\n",
    "print(hiddenlayer_activations)"
   ]
  },
  {
   "cell_type": "code",
   "execution_count": 297,
   "metadata": {},
   "outputs": [
    {
     "name": "stdout",
     "output_type": "stream",
     "text": [
      "[[0.58992247]\n",
      " [0.60155836]\n",
      " [0.54735044]]\n"
     ]
    }
   ],
   "source": [
    "output_layer_input1 = np.dot(hiddenlayer_activations, wout)\n",
    "print(output_layer_input1)"
   ]
  },
  {
   "cell_type": "code",
   "execution_count": 298,
   "metadata": {},
   "outputs": [
    {
     "name": "stdout",
     "output_type": "stream",
     "text": [
      "[[0.67776964]\n",
      " [0.68940553]\n",
      " [0.63519761]]\n"
     ]
    }
   ],
   "source": [
    "output_layer_input = output_layer_input1 + bout\n",
    "print(output_layer_input)"
   ]
  },
  {
   "cell_type": "code",
   "execution_count": 299,
   "metadata": {},
   "outputs": [
    {
     "name": "stdout",
     "output_type": "stream",
     "text": [
      "[[0.66324072]\n",
      " [0.66583467]\n",
      " [0.65366707]]\n"
     ]
    }
   ],
   "source": [
    "output = sigmoid(output_layer_input)\n",
    "print(output)"
   ]
  },
  {
   "cell_type": "markdown",
   "metadata": {},
   "source": [
    "# Backpropagation"
   ]
  },
  {
   "cell_type": "code",
   "execution_count": 300,
   "metadata": {},
   "outputs": [
    {
     "name": "stdout",
     "output_type": "stream",
     "text": [
      "[[ 0.33675928]\n",
      " [ 0.33416533]\n",
      " [-0.65366707]]\n"
     ]
    }
   ],
   "source": [
    "E = y - output\n",
    "print(E)"
   ]
  },
  {
   "cell_type": "code",
   "execution_count": 301,
   "metadata": {},
   "outputs": [
    {
     "name": "stdout",
     "output_type": "stream",
     "text": [
      "[[0.22335247]\n",
      " [0.22249886]\n",
      " [0.22638643]]\n",
      "[[0.20132319 0.08496714 0.20672756]\n",
      " [0.14097363 0.0820076  0.19710482]\n",
      " [0.17029732 0.18125549 0.19351632]]\n"
     ]
    }
   ],
   "source": [
    "slope_output_layer = derivatives_sigmoid(output)\n",
    "print(slope_output_layer)\n",
    "slope_hidden_layer = derivatives_sigmoid(hiddenlayer_activations)\n",
    "print(slope_hidden_layer)"
   ]
  },
  {
   "cell_type": "code",
   "execution_count": 302,
   "metadata": {},
   "outputs": [
    {
     "name": "stdout",
     "output_type": "stream",
     "text": [
      "[[ 0.07521602]\n",
      " [ 0.07435141]\n",
      " [-0.14798136]]\n"
     ]
    }
   ],
   "source": [
    "d_output = E * slope_output_layer\n",
    "print(d_output)"
   ]
  },
  {
   "cell_type": "code",
   "execution_count": 310,
   "metadata": {},
   "outputs": [
    {
     "name": "stdout",
     "output_type": "stream",
     "text": [
      "[[ 0.00216331  0.02834992  0.02439183]\n",
      " [ 0.00213844  0.02802403  0.02411144]\n",
      " [-0.00425613 -0.05577614 -0.04798892]]\n"
     ]
    }
   ],
   "source": [
    "Error_at_hidden_layer = d_output.dot(wout.T)\n",
    "print(Error_at_hidden_layer)"
   ]
  },
  {
   "cell_type": "code",
   "execution_count": 311,
   "metadata": {},
   "outputs": [
    {
     "name": "stdout",
     "output_type": "stream",
     "text": [
      "[[ 0.00043552  0.00240881  0.00504246]\n",
      " [ 0.00030146  0.00229818  0.00475248]\n",
      " [-0.00072481 -0.01010973 -0.00928664]]\n"
     ]
    }
   ],
   "source": [
    "d_hiddenlayer = Error_at_hidden_layer * slope_hidden_layer\n",
    "print(d_hiddenlayer)"
   ]
  },
  {
   "cell_type": "code",
   "execution_count": 312,
   "metadata": {},
   "outputs": [
    {
     "name": "stdout",
     "output_type": "stream",
     "text": [
      "[[0.02877728]\n",
      " [0.3792157 ]\n",
      " [0.32412733]]\n"
     ]
    }
   ],
   "source": [
    "wout += hiddenlayer_activations.T.dot(d_output) * lr\n",
    "print(wout)"
   ]
  },
  {
   "cell_type": "code",
   "execution_count": 313,
   "metadata": {},
   "outputs": [
    {
     "name": "stdout",
     "output_type": "stream",
     "text": [
      "[[0.08816438]]\n"
     ]
    }
   ],
   "source": [
    "bout += np.sum(d_output, axis = 0, keepdims = True) * lr\n",
    "print(bout)"
   ]
  },
  {
   "cell_type": "code",
   "execution_count": 314,
   "metadata": {},
   "outputs": [
    {
     "name": "stdout",
     "output_type": "stream",
     "text": [
      "[[0.35609721 0.84207403 0.53609283]\n",
      " [0.36423938 0.56451528 0.60644495]\n",
      " [0.3190121  0.87023682 0.0352279 ]\n",
      " [0.63867018 0.04332241 0.10807945]]\n"
     ]
    }
   ],
   "source": [
    "wh += X.T.dot(d_hiddenlayer) * lr\n",
    "print(wh)"
   ]
  },
  {
   "cell_type": "code",
   "execution_count": 315,
   "metadata": {},
   "outputs": [
    {
     "name": "stdout",
     "output_type": "stream",
     "text": [
      "[[0.27407015 0.55661947 0.31717506]]\n"
     ]
    }
   ],
   "source": [
    "bh += np.sum(d_hiddenlayer, axis = 0, keepdims = True) * lr\n",
    "print(bh)"
   ]
  },
  {
   "cell_type": "code",
   "execution_count": 316,
   "metadata": {},
   "outputs": [
    {
     "name": "stdout",
     "output_type": "stream",
     "text": [
      "[[0.66324072]\n",
      " [0.66583467]\n",
      " [0.65366707]]\n"
     ]
    }
   ],
   "source": [
    "print(output)"
   ]
  },
  {
   "cell_type": "markdown",
   "metadata": {},
   "source": [
    "### Epoch#2"
   ]
  },
  {
   "cell_type": "code",
   "execution_count": 317,
   "metadata": {},
   "outputs": [
    {
     "name": "stdout",
     "output_type": "stream",
     "text": [
      "[[0.6751093  1.71231084 0.57132073]\n",
      " [1.31377948 1.75563325 0.67940018]\n",
      " [1.00290956 0.60783769 0.7145244 ]]\n"
     ]
    }
   ],
   "source": [
    "hidden_layer_input1 = np.dot(X, wh)\n",
    "print(hidden_layer_input1)"
   ]
  },
  {
   "cell_type": "code",
   "execution_count": 318,
   "metadata": {},
   "outputs": [
    {
     "name": "stdout",
     "output_type": "stream",
     "text": [
      "[[0.94917945 2.26893031 0.88849578]\n",
      " [1.58784962 2.31225272 0.99657523]\n",
      " [1.2769797  1.16445716 1.03169945]]\n"
     ]
    }
   ],
   "source": [
    "hidden_layer_input = hidden_layer_input1 + bh\n",
    "print(hidden_layer_input)"
   ]
  },
  {
   "cell_type": "code",
   "execution_count": 319,
   "metadata": {},
   "outputs": [
    {
     "name": "stdout",
     "output_type": "stream",
     "text": [
      "[[0.72095013 0.90627096 0.70857966]\n",
      " [0.83031335 0.90988673 0.7303847 ]\n",
      " [0.78193522 0.76214166 0.73724524]]\n"
     ]
    }
   ],
   "source": [
    "hiddenlayer_activations = sigmoid(hidden_layer_input)\n",
    "print(hiddenlayer_activations)"
   ]
  },
  {
   "cell_type": "code",
   "execution_count": 320,
   "metadata": {},
   "outputs": [
    {
     "name": "stdout",
     "output_type": "stream",
     "text": [
      "[[0.59408919]\n",
      " [0.60567513]\n",
      " [0.55047938]]\n"
     ]
    }
   ],
   "source": [
    "output_layer_input1 = np.dot(hiddenlayer_activations, wout)\n",
    "print(output_layer_input1)"
   ]
  },
  {
   "cell_type": "code",
   "execution_count": 321,
   "metadata": {},
   "outputs": [
    {
     "name": "stdout",
     "output_type": "stream",
     "text": [
      "[[0.68225358]\n",
      " [0.69383952]\n",
      " [0.63864376]]\n"
     ]
    }
   ],
   "source": [
    "output_layer_input = output_layer_input1 + bout\n",
    "print(output_layer_input)"
   ]
  },
  {
   "cell_type": "code",
   "execution_count": 322,
   "metadata": {},
   "outputs": [
    {
     "name": "stdout",
     "output_type": "stream",
     "text": [
      "[[0.66424149]\n",
      " [0.6668205 ]\n",
      " [0.65444682]]\n"
     ]
    }
   ],
   "source": [
    "output = sigmoid(output_layer_input)\n",
    "print(output)"
   ]
  },
  {
   "cell_type": "markdown",
   "metadata": {},
   "source": [
    "# Backpropagation"
   ]
  },
  {
   "cell_type": "code",
   "execution_count": 323,
   "metadata": {},
   "outputs": [
    {
     "name": "stdout",
     "output_type": "stream",
     "text": [
      "[[ 0.33575851]\n",
      " [ 0.3331795 ]\n",
      " [-0.65444682]]\n"
     ]
    }
   ],
   "source": [
    "E = y - output\n",
    "print(E)"
   ]
  },
  {
   "cell_type": "code",
   "execution_count": 324,
   "metadata": {},
   "outputs": [
    {
     "name": "stdout",
     "output_type": "stream",
     "text": [
      "[[0.22302473]\n",
      " [0.22217092]\n",
      " [0.22614618]]\n",
      "[[0.20118104 0.0849439  0.20649453]\n",
      " [0.14089309 0.08199287 0.19692289]\n",
      " [0.17051253 0.18128175 0.1937147 ]]\n"
     ]
    }
   ],
   "source": [
    "slope_output_layer = derivatives_sigmoid(output)\n",
    "print(slope_output_layer)\n",
    "slope_hidden_layer = derivatives_sigmoid(hiddenlayer_activations)\n",
    "print(slope_hidden_layer)"
   ]
  },
  {
   "cell_type": "code",
   "execution_count": 325,
   "metadata": {},
   "outputs": [
    {
     "name": "stdout",
     "output_type": "stream",
     "text": [
      "[[ 0.07488245]\n",
      " [ 0.0740228 ]\n",
      " [-0.14800065]]\n"
     ]
    }
   ],
   "source": [
    "d_output = E * slope_output_layer\n",
    "print(d_output)"
   ]
  },
  {
   "cell_type": "code",
   "execution_count": 326,
   "metadata": {},
   "outputs": [
    {
     "name": "stdout",
     "output_type": "stream",
     "text": [
      "[[ 0.00215491  0.0283966   0.02427145]\n",
      " [ 0.00213017  0.02807061  0.02399281]\n",
      " [-0.00425906 -0.05612417 -0.04797105]]\n"
     ]
    }
   ],
   "source": [
    "Error_at_hidden_layer = d_output.dot(wout.T)\n",
    "print(Error_at_hidden_layer)"
   ]
  },
  {
   "cell_type": "code",
   "execution_count": 327,
   "metadata": {},
   "outputs": [
    {
     "name": "stdout",
     "output_type": "stream",
     "text": [
      "[[ 0.00043353  0.00241212  0.00501192]\n",
      " [ 0.00030013  0.00230159  0.00472473]\n",
      " [-0.00072622 -0.01017429 -0.0092927 ]]\n"
     ]
    }
   ],
   "source": [
    "d_hiddenlayer = Error_at_hidden_layer * slope_hidden_layer\n",
    "print(d_hiddenlayer)"
   ]
  },
  {
   "cell_type": "code",
   "execution_count": 328,
   "metadata": {},
   "outputs": [
    {
     "name": "stdout",
     "output_type": "stream",
     "text": [
      "[[0.02874945]\n",
      " [0.38145757]\n",
      " [0.32392858]]\n"
     ]
    }
   ],
   "source": [
    "wout += hiddenlayer_activations.T.dot(d_output) * lr\n",
    "print(wout)"
   ]
  },
  {
   "cell_type": "code",
   "execution_count": 329,
   "metadata": {},
   "outputs": [
    {
     "name": "stdout",
     "output_type": "stream",
     "text": [
      "[[0.08825484]]\n"
     ]
    }
   ],
   "source": [
    "bout += np.sum(d_output, axis = 0, keepdims = True) * lr\n",
    "print(bout)"
   ]
  },
  {
   "cell_type": "code",
   "execution_count": 330,
   "metadata": {},
   "outputs": [
    {
     "name": "stdout",
     "output_type": "stream",
     "text": [
      "[[0.35617057 0.8425454  0.53706649]\n",
      " [0.36416676 0.56349785 0.60551568]\n",
      " [0.31908546 0.87070819 0.03620156]\n",
      " [0.63862757 0.04253514 0.10762265]]\n"
     ]
    }
   ],
   "source": [
    "wh += X.T.dot(d_hiddenlayer) * lr\n",
    "print(wh)"
   ]
  },
  {
   "cell_type": "code",
   "execution_count": 331,
   "metadata": {},
   "outputs": [
    {
     "name": "stdout",
     "output_type": "stream",
     "text": [
      "[[0.27407089 0.55607341 0.31721945]]\n"
     ]
    }
   ],
   "source": [
    "bh += np.sum(d_hiddenlayer, axis = 0, keepdims = True) * lr\n",
    "print(bh)"
   ]
  },
  {
   "cell_type": "code",
   "execution_count": 332,
   "metadata": {},
   "outputs": [
    {
     "name": "stdout",
     "output_type": "stream",
     "text": [
      "[[0.66424149]\n",
      " [0.6668205 ]\n",
      " [0.65444682]]\n"
     ]
    }
   ],
   "source": [
    "print(output)"
   ]
  },
  {
   "cell_type": "markdown",
   "metadata": {},
   "source": [
    "### Epoch#3"
   ]
  },
  {
   "cell_type": "code",
   "execution_count": 333,
   "metadata": {},
   "outputs": [
    {
     "name": "stdout",
     "output_type": "stream",
     "text": [
      "[[0.67525603 1.71325358 0.57326806]\n",
      " [1.3138836  1.75578872 0.68089071]\n",
      " [1.00279432 0.60603299 0.71313833]]\n"
     ]
    }
   ],
   "source": [
    "hidden_layer_input1 = np.dot(X, wh)\n",
    "print(hidden_layer_input1)"
   ]
  },
  {
   "cell_type": "code",
   "execution_count": 334,
   "metadata": {},
   "outputs": [
    {
     "name": "stdout",
     "output_type": "stream",
     "text": [
      "[[0.94932692 2.26932699 0.89048751]\n",
      " [1.58795449 2.31186213 0.99811016]\n",
      " [1.27686521 1.1621064  1.03035778]]\n"
     ]
    }
   ],
   "source": [
    "hidden_layer_input = hidden_layer_input1 + bh\n",
    "print(hidden_layer_input)"
   ]
  },
  {
   "cell_type": "code",
   "execution_count": 335,
   "metadata": {},
   "outputs": [
    {
     "name": "stdout",
     "output_type": "stream",
     "text": [
      "[[0.7209798  0.90630465 0.70899077]\n",
      " [0.83032812 0.9098547  0.73068685]\n",
      " [0.78191569 0.76171525 0.73698525]]\n"
     ]
    }
   ],
   "source": [
    "hiddenlayer_activations = sigmoid(hidden_layer_input)\n",
    "print(hiddenlayer_activations)"
   ]
  },
  {
   "cell_type": "code",
   "execution_count": 336,
   "metadata": {},
   "outputs": [
    {
     "name": "stdout",
     "output_type": "stream",
     "text": [
      "[[0.59610692]\n",
      " [0.6076328 ]\n",
      " [0.55177228]]\n"
     ]
    }
   ],
   "source": [
    "output_layer_input1 = np.dot(hiddenlayer_activations, wout)\n",
    "print(output_layer_input1)"
   ]
  },
  {
   "cell_type": "code",
   "execution_count": 337,
   "metadata": {},
   "outputs": [
    {
     "name": "stdout",
     "output_type": "stream",
     "text": [
      "[[0.68436176]\n",
      " [0.69588764]\n",
      " [0.64002713]]\n"
     ]
    }
   ],
   "source": [
    "output_layer_input = output_layer_input1 + bout\n",
    "print(output_layer_input)"
   ]
  },
  {
   "cell_type": "code",
   "execution_count": 338,
   "metadata": {},
   "outputs": [
    {
     "name": "stdout",
     "output_type": "stream",
     "text": [
      "[[0.6647115 ]\n",
      " [0.66727538]\n",
      " [0.65475959]]\n"
     ]
    }
   ],
   "source": [
    "output = sigmoid(output_layer_input)\n",
    "print(output)"
   ]
  },
  {
   "cell_type": "markdown",
   "metadata": {},
   "source": [
    "# Backpropagation"
   ]
  },
  {
   "cell_type": "code",
   "execution_count": 339,
   "metadata": {},
   "outputs": [
    {
     "name": "stdout",
     "output_type": "stream",
     "text": [
      "[[ 0.3352885 ]\n",
      " [ 0.33272462]\n",
      " [-0.65475959]]\n"
     ]
    }
   ],
   "source": [
    "E = y - output\n",
    "print(E)"
   ]
  },
  {
   "cell_type": "code",
   "execution_count": 340,
   "metadata": {},
   "outputs": [
    {
     "name": "stdout",
     "output_type": "stream",
     "text": [
      "[[0.22287012]\n",
      " [0.22201895]\n",
      " [0.22604947]]\n",
      "[[0.20116793 0.08491653 0.20632286]\n",
      " [0.14088333 0.08201912 0.19678358]\n",
      " [0.17052354 0.18150513 0.19383799]]\n"
     ]
    }
   ],
   "source": [
    "slope_output_layer = derivatives_sigmoid(output)\n",
    "print(slope_output_layer)\n",
    "slope_hidden_layer = derivatives_sigmoid(hiddenlayer_activations)\n",
    "print(slope_hidden_layer)"
   ]
  },
  {
   "cell_type": "code",
   "execution_count": 341,
   "metadata": {},
   "outputs": [
    {
     "name": "stdout",
     "output_type": "stream",
     "text": [
      "[[ 0.07472579]\n",
      " [ 0.07387117]\n",
      " [-0.14800806]]\n"
     ]
    }
   ],
   "source": [
    "d_output = E * slope_output_layer\n",
    "print(d_output)"
   ]
  },
  {
   "cell_type": "code",
   "execution_count": 342,
   "metadata": {},
   "outputs": [
    {
     "name": "stdout",
     "output_type": "stream",
     "text": [
      "[[ 0.00214833  0.02850472  0.02420582]\n",
      " [ 0.00212376  0.02817872  0.02392898]\n",
      " [-0.00425515 -0.05645879 -0.04794404]]\n"
     ]
    }
   ],
   "source": [
    "Error_at_hidden_layer = d_output.dot(wout.T)\n",
    "print(Error_at_hidden_layer)"
   ]
  },
  {
   "cell_type": "code",
   "execution_count": 343,
   "metadata": {},
   "outputs": [
    {
     "name": "stdout",
     "output_type": "stream",
     "text": [
      "[[ 0.00043217  0.00242052  0.00499421]\n",
      " [ 0.0002992   0.00231119  0.00470883]\n",
      " [-0.0007256  -0.01024756 -0.00929338]]\n"
     ]
    }
   ],
   "source": [
    "d_hiddenlayer = Error_at_hidden_layer * slope_hidden_layer\n",
    "print(d_hiddenlayer)"
   ]
  },
  {
   "cell_type": "code",
   "execution_count": 344,
   "metadata": {},
   "outputs": [
    {
     "name": "stdout",
     "output_type": "stream",
     "text": [
      "[[0.02869778]\n",
      " [0.3836772 ]\n",
      " [0.32371627]]\n"
     ]
    }
   ],
   "source": [
    "wout += hiddenlayer_activations.T.dot(d_output) * lr\n",
    "print(wout)"
   ]
  },
  {
   "cell_type": "code",
   "execution_count": 345,
   "metadata": {},
   "outputs": [
    {
     "name": "stdout",
     "output_type": "stream",
     "text": [
      "[[0.08831373]]\n"
     ]
    }
   ],
   "source": [
    "bout += np.sum(d_output, axis = 0, keepdims = True) * lr\n",
    "print(bout)"
   ]
  },
  {
   "cell_type": "code",
   "execution_count": 346,
   "metadata": {},
   "outputs": [
    {
     "name": "stdout",
     "output_type": "stream",
     "text": [
      "[[0.35624371 0.84301857 0.5380368 ]\n",
      " [0.3640942  0.5624731  0.60458634]\n",
      " [0.3191586  0.87118136 0.03717187]\n",
      " [0.63858493 0.0417415  0.1071642 ]]\n"
     ]
    }
   ],
   "source": [
    "wh += X.T.dot(d_hiddenlayer) * lr\n",
    "print(wh)"
   ]
  },
  {
   "cell_type": "code",
   "execution_count": 347,
   "metadata": {},
   "outputs": [
    {
     "name": "stdout",
     "output_type": "stream",
     "text": [
      "[[0.27407147 0.55552182 0.31726042]]\n"
     ]
    }
   ],
   "source": [
    "bh += np.sum(d_hiddenlayer, axis = 0, keepdims = True) * lr\n",
    "print(bh)"
   ]
  },
  {
   "cell_type": "code",
   "execution_count": 348,
   "metadata": {},
   "outputs": [
    {
     "name": "stdout",
     "output_type": "stream",
     "text": [
      "[[0.6647115 ]\n",
      " [0.66727538]\n",
      " [0.65475959]]\n"
     ]
    }
   ],
   "source": [
    "print(output)"
   ]
  },
  {
   "cell_type": "markdown",
   "metadata": {},
   "source": [
    "### Epoch#4"
   ]
  },
  {
   "cell_type": "code",
   "execution_count": 349,
   "metadata": {},
   "outputs": [
    {
     "name": "stdout",
     "output_type": "stream",
     "text": [
      "[[0.67540231 1.71419993 0.57520867]\n",
      " [1.31398723 1.75594143 0.68237287]\n",
      " [1.00267912 0.6042146  0.71175054]]\n"
     ]
    }
   ],
   "source": [
    "hidden_layer_input1 = np.dot(X, wh)\n",
    "print(hidden_layer_input1)"
   ]
  },
  {
   "cell_type": "code",
   "execution_count": 350,
   "metadata": {},
   "outputs": [
    {
     "name": "stdout",
     "output_type": "stream",
     "text": [
      "[[0.94947377 2.26972175 0.89246909]\n",
      " [1.5880587  2.31146325 0.99963329]\n",
      " [1.27675059 1.15973642 1.02901096]]\n"
     ]
    }
   ],
   "source": [
    "hidden_layer_input = hidden_layer_input1 + bh\n",
    "print(hidden_layer_input)"
   ]
  },
  {
   "cell_type": "code",
   "execution_count": 351,
   "metadata": {},
   "outputs": [
    {
     "name": "stdout",
     "output_type": "stream",
     "text": [
      "[[0.72100934 0.90633817 0.70939944]\n",
      " [0.8303428  0.90982198 0.73098647]\n",
      " [0.78189615 0.76128482 0.7367241 ]]\n"
     ]
    }
   ],
   "source": [
    "hiddenlayer_activations = sigmoid(hidden_layer_input)\n",
    "print(hiddenlayer_activations)"
   ]
  },
  {
   "cell_type": "code",
   "execution_count": 352,
   "metadata": {},
   "outputs": [
    {
     "name": "stdout",
     "output_type": "stream",
     "text": [
      "[[0.5980768 ]\n",
      " [0.60953916]\n",
      " [0.55301589]]\n"
     ]
    }
   ],
   "source": [
    "output_layer_input1 = np.dot(hiddenlayer_activations, wout)\n",
    "print(output_layer_input1)"
   ]
  },
  {
   "cell_type": "code",
   "execution_count": 353,
   "metadata": {},
   "outputs": [
    {
     "name": "stdout",
     "output_type": "stream",
     "text": [
      "[[0.68639053]\n",
      " [0.69785289]\n",
      " [0.64132962]]\n"
     ]
    }
   ],
   "source": [
    "output_layer_input = output_layer_input1 + bout\n",
    "print(output_layer_input)"
   ]
  },
  {
   "cell_type": "code",
   "execution_count": 354,
   "metadata": {},
   "outputs": [
    {
     "name": "stdout",
     "output_type": "stream",
     "text": [
      "[[0.6651635 ]\n",
      " [0.66771156]\n",
      " [0.65505396]]\n"
     ]
    }
   ],
   "source": [
    "output = sigmoid(output_layer_input)\n",
    "print(output)"
   ]
  },
  {
   "cell_type": "markdown",
   "metadata": {},
   "source": [
    "# Backpropagation"
   ]
  },
  {
   "cell_type": "code",
   "execution_count": 355,
   "metadata": {},
   "outputs": [
    {
     "name": "stdout",
     "output_type": "stream",
     "text": [
      "[[ 0.3348365 ]\n",
      " [ 0.33228844]\n",
      " [-0.65505396]]\n"
     ]
    }
   ],
   "source": [
    "E = y - output\n",
    "print(E)"
   ]
  },
  {
   "cell_type": "code",
   "execution_count": 356,
   "metadata": {},
   "outputs": [
    {
     "name": "stdout",
     "output_type": "stream",
     "text": [
      "[[0.22272102]\n",
      " [0.22187283]\n",
      " [0.22595827]]\n",
      "[[0.20115487 0.08488929 0.20615187]\n",
      " [0.14087363 0.08204594 0.19664525]\n",
      " [0.17053456 0.18173024 0.1939617 ]]\n"
     ]
    }
   ],
   "source": [
    "slope_output_layer = derivatives_sigmoid(output)\n",
    "print(slope_output_layer)\n",
    "slope_hidden_layer = derivatives_sigmoid(hiddenlayer_activations)\n",
    "print(slope_hidden_layer)"
   ]
  },
  {
   "cell_type": "code",
   "execution_count": 357,
   "metadata": {},
   "outputs": [
    {
     "name": "stdout",
     "output_type": "stream",
     "text": [
      "[[ 0.07457513]\n",
      " [ 0.07372578]\n",
      " [-0.14801486]]\n"
     ]
    }
   ],
   "source": [
    "d_output = E * slope_output_layer\n",
    "print(d_output)"
   ]
  },
  {
   "cell_type": "code",
   "execution_count": 358,
   "metadata": {},
   "outputs": [
    {
     "name": "stdout",
     "output_type": "stream",
     "text": [
      "[[ 0.00214014  0.02861278  0.02414118]\n",
      " [ 0.00211577  0.0282869   0.02386623]\n",
      " [-0.0042477  -0.05678993 -0.04791482]]\n"
     ]
    }
   ],
   "source": [
    "Error_at_hidden_layer = d_output.dot(wout.T)\n",
    "print(Error_at_hidden_layer)"
   ]
  },
  {
   "cell_type": "code",
   "execution_count": 359,
   "metadata": {},
   "outputs": [
    {
     "name": "stdout",
     "output_type": "stream",
     "text": [
      "[[ 0.0004305   0.00242892  0.00497675]\n",
      " [ 0.00029806  0.00232083  0.00469318]\n",
      " [-0.00072438 -0.01032045 -0.00929364]]\n"
     ]
    }
   ],
   "source": [
    "d_hiddenlayer = Error_at_hidden_layer * slope_hidden_layer\n",
    "print(d_hiddenlayer)"
   ]
  },
  {
   "cell_type": "code",
   "execution_count": 360,
   "metadata": {},
   "outputs": [
    {
     "name": "stdout",
     "output_type": "stream",
     "text": [
      "[[0.02862326]\n",
      " [0.38587582]\n",
      " [0.32349126]]\n"
     ]
    }
   ],
   "source": [
    "wout += hiddenlayer_activations.T.dot(d_output) * lr\n",
    "print(wout)"
   ]
  },
  {
   "cell_type": "code",
   "execution_count": 361,
   "metadata": {},
   "outputs": [
    {
     "name": "stdout",
     "output_type": "stream",
     "text": [
      "[[0.08834234]]\n"
     ]
    }
   ],
   "source": [
    "bout += np.sum(d_output, axis = 0, keepdims = True) * lr\n",
    "print(bout)"
   ]
  },
  {
   "cell_type": "code",
   "execution_count": 362,
   "metadata": {},
   "outputs": [
    {
     "name": "stdout",
     "output_type": "stream",
     "text": [
      "[[0.35631656 0.84349354 0.53900379]\n",
      " [0.36402176 0.56144105 0.60365698]\n",
      " [0.31923145 0.87165633 0.03813886]\n",
      " [0.63854229 0.04094154 0.10670415]]\n"
     ]
    }
   ],
   "source": [
    "wh += X.T.dot(d_hiddenlayer) * lr\n",
    "print(wh)"
   ]
  },
  {
   "cell_type": "code",
   "execution_count": 363,
   "metadata": {},
   "outputs": [
    {
     "name": "stdout",
     "output_type": "stream",
     "text": [
      "[[0.27407188 0.55496475 0.31729805]]\n"
     ]
    }
   ],
   "source": [
    "bh += np.sum(d_hiddenlayer, axis = 0, keepdims = True) * lr\n",
    "print(bh)"
   ]
  },
  {
   "cell_type": "code",
   "execution_count": 364,
   "metadata": {},
   "outputs": [
    {
     "name": "stdout",
     "output_type": "stream",
     "text": [
      "[[0.6651635 ]\n",
      " [0.66771156]\n",
      " [0.65505396]]\n"
     ]
    }
   ],
   "source": [
    "print(output)"
   ]
  },
  {
   "cell_type": "markdown",
   "metadata": {},
   "source": [
    "### Epoch#5"
   ]
  },
  {
   "cell_type": "code",
   "execution_count": 365,
   "metadata": {},
   "outputs": [
    {
     "name": "stdout",
     "output_type": "stream",
     "text": [
      "[[0.67554802 1.71514987 0.57714265]\n",
      " [1.31409031 1.75609141 0.68384681]\n",
      " [1.00256405 0.60238259 0.71036113]]\n"
     ]
    }
   ],
   "source": [
    "hidden_layer_input1 = np.dot(X, wh)\n",
    "print(hidden_layer_input1)"
   ]
  },
  {
   "cell_type": "code",
   "execution_count": 366,
   "metadata": {},
   "outputs": [
    {
     "name": "stdout",
     "output_type": "stream",
     "text": [
      "[[0.9496199  2.27011463 0.8944407 ]\n",
      " [1.5881622  2.31105617 1.00114486]\n",
      " [1.27663594 1.15734735 1.02765918]]\n"
     ]
    }
   ],
   "source": [
    "hidden_layer_input = hidden_layer_input1 + bh\n",
    "print(hidden_layer_input)"
   ]
  },
  {
   "cell_type": "code",
   "execution_count": 367,
   "metadata": {},
   "outputs": [
    {
     "name": "stdout",
     "output_type": "stream",
     "text": [
      "[[0.72103873 0.90637152 0.70980573]\n",
      " [0.83035738 0.90978858 0.73128361]\n",
      " [0.78187659 0.76085038 0.73646183]]\n"
     ]
    }
   ],
   "source": [
    "hiddenlayer_activations = sigmoid(hidden_layer_input)\n",
    "print(hiddenlayer_activations)"
   ]
  },
  {
   "cell_type": "code",
   "execution_count": 368,
   "metadata": {},
   "outputs": [
    {
     "name": "stdout",
     "output_type": "stream",
     "text": [
      "[[0.60000128]\n",
      " [0.61139681]\n",
      " [0.55421259]]\n"
     ]
    }
   ],
   "source": [
    "output_layer_input1 = np.dot(hiddenlayer_activations, wout)\n",
    "print(output_layer_input1)"
   ]
  },
  {
   "cell_type": "code",
   "execution_count": 369,
   "metadata": {},
   "outputs": [
    {
     "name": "stdout",
     "output_type": "stream",
     "text": [
      "[[0.68834362]\n",
      " [0.69973914]\n",
      " [0.64255492]]\n"
     ]
    }
   ],
   "source": [
    "output_layer_input = output_layer_input1 + bout\n",
    "print(output_layer_input)"
   ]
  },
  {
   "cell_type": "code",
   "execution_count": 370,
   "metadata": {},
   "outputs": [
    {
     "name": "stdout",
     "output_type": "stream",
     "text": [
      "[[0.66559836]\n",
      " [0.66812993]\n",
      " [0.65533078]]\n"
     ]
    }
   ],
   "source": [
    "output = sigmoid(output_layer_input)\n",
    "print(output)"
   ]
  },
  {
   "cell_type": "markdown",
   "metadata": {},
   "source": [
    "# Backpropagation"
   ]
  },
  {
   "cell_type": "code",
   "execution_count": 371,
   "metadata": {},
   "outputs": [
    {
     "name": "stdout",
     "output_type": "stream",
     "text": [
      "[[ 0.33440164]\n",
      " [ 0.33187007]\n",
      " [-0.65533078]]\n"
     ]
    }
   ],
   "source": [
    "E = y - output\n",
    "print(E)"
   ]
  },
  {
   "cell_type": "code",
   "execution_count": 372,
   "metadata": {},
   "outputs": [
    {
     "name": "stdout",
     "output_type": "stream",
     "text": [
      "[[0.22257718]\n",
      " [0.22173233]\n",
      " [0.22587235]]\n",
      "[[0.20114188 0.08486219 0.20598156]\n",
      " [0.140864   0.08207332 0.19650789]\n",
      " [0.17054559 0.18195708 0.1940858 ]]\n"
     ]
    }
   ],
   "source": [
    "slope_output_layer = derivatives_sigmoid(output)\n",
    "print(slope_output_layer)\n",
    "slope_hidden_layer = derivatives_sigmoid(hiddenlayer_activations)\n",
    "print(slope_hidden_layer)"
   ]
  },
  {
   "cell_type": "code",
   "execution_count": 373,
   "metadata": {},
   "outputs": [
    {
     "name": "stdout",
     "output_type": "stream",
     "text": [
      "[[ 0.07443018]\n",
      " [ 0.07358632]\n",
      " [-0.1480211 ]]\n"
     ]
    }
   ],
   "source": [
    "d_output = E * slope_output_layer\n",
    "print(d_output)"
   ]
  },
  {
   "cell_type": "code",
   "execution_count": 374,
   "metadata": {},
   "outputs": [
    {
     "name": "stdout",
     "output_type": "stream",
     "text": [
      "[[ 0.00213043  0.02872081  0.02407751]\n",
      " [ 0.00210628  0.02839518  0.02380453]\n",
      " [-0.00423685 -0.05711776 -0.04788353]]\n"
     ]
    }
   ],
   "source": [
    "Error_at_hidden_layer = d_output.dot(wout.T)\n",
    "print(Error_at_hidden_layer)"
   ]
  },
  {
   "cell_type": "code",
   "execution_count": 375,
   "metadata": {},
   "outputs": [
    {
     "name": "stdout",
     "output_type": "stream",
     "text": [
      "[[ 0.00042852  0.00243731  0.00495952]\n",
      " [ 0.0002967   0.00233049  0.00467778]\n",
      " [-0.00072258 -0.01039298 -0.00929351]]\n"
     ]
    }
   ],
   "source": [
    "d_hiddenlayer = Error_at_hidden_layer * slope_hidden_layer\n",
    "print(d_hiddenlayer)"
   ]
  },
  {
   "cell_type": "code",
   "execution_count": 376,
   "metadata": {},
   "outputs": [
    {
     "name": "stdout",
     "output_type": "stream",
     "text": [
      "[[0.02852683]\n",
      " [0.38805457]\n",
      " [0.32325442]]\n"
     ]
    }
   ],
   "source": [
    "wout += hiddenlayer_activations.T.dot(d_output) * lr\n",
    "print(wout)"
   ]
  },
  {
   "cell_type": "code",
   "execution_count": 377,
   "metadata": {},
   "outputs": [
    {
     "name": "stdout",
     "output_type": "stream",
     "text": [
      "[[0.08834188]]\n"
     ]
    }
   ],
   "source": [
    "bout += np.sum(d_output, axis = 0, keepdims = True) * lr\n",
    "print(bout)"
   ]
  },
  {
   "cell_type": "code",
   "execution_count": 378,
   "metadata": {},
   "outputs": [
    {
     "name": "stdout",
     "output_type": "stream",
     "text": [
      "[[0.35638909 0.84397032 0.53996752]\n",
      " [0.3639495  0.56040175 0.60272762]\n",
      " [0.31930398 0.87213311 0.03910259]\n",
      " [0.63849971 0.04013529 0.10624258]]\n"
     ]
    }
   ],
   "source": [
    "wh += X.T.dot(d_hiddenlayer) * lr\n",
    "print(wh)"
   ]
  },
  {
   "cell_type": "code",
   "execution_count": 379,
   "metadata": {},
   "outputs": [
    {
     "name": "stdout",
     "output_type": "stream",
     "text": [
      "[[0.27407215 0.55440224 0.31733243]]\n"
     ]
    }
   ],
   "source": [
    "bh += np.sum(d_hiddenlayer, axis = 0, keepdims = True) * lr\n",
    "print(bh)"
   ]
  },
  {
   "cell_type": "code",
   "execution_count": 380,
   "metadata": {},
   "outputs": [
    {
     "name": "stdout",
     "output_type": "stream",
     "text": [
      "[[0.66559836]\n",
      " [0.66812993]\n",
      " [0.65533078]]\n"
     ]
    }
   ],
   "source": [
    "print(output)"
   ]
  },
  {
   "cell_type": "code",
   "execution_count": 381,
   "metadata": {},
   "outputs": [
    {
     "name": "stdout",
     "output_type": "stream",
     "text": [
      "[[0.938906  ]\n",
      " [0.8983458 ]\n",
      " [0.13993778]]\n"
     ]
    }
   ],
   "source": [
    "epoch = 1100\n",
    "for i in range(epoch):\n",
    "\n",
    "    #Forward Propogation \n",
    "    hidden_layer_input1 = np.dot(X, wh) \n",
    "    hidden_layer_input = hidden_layer_input1 + bh \n",
    "    hiddenlayer_activations = sigmoid(hidden_layer_input) \n",
    "    output_layer_input1 = np.dot(hiddenlayer_activations, wout) \n",
    "    output_layer_input = output_layer_input1 + bout \n",
    "    output = sigmoid(output_layer_input)\n",
    "\n",
    "    #Backpropagation\n",
    "    E = y - output \n",
    "    slope_output_layer = derivatives_sigmoid(output) \n",
    "    slope_hidden_layer = derivatives_sigmoid(hiddenlayer_activations) \n",
    "    d_output = E * slope_output_layer \n",
    "    Error_at_hidden_layer = d_output.dot(wout.T) \n",
    "    d_hiddenlayer = Error_at_hidden_layer * slope_hidden_layer \n",
    "    wout += hiddenlayer_activations.T.dot(d_output) * lr \n",
    "    bout += np.sum(d_output, axis = 0, keepdims = True) * lr \n",
    "    wh += X.T.dot(d_hiddenlayer) * lr \n",
    "    bh += np.sum(d_hiddenlayer, axis = 0, keepdims = True) * lr\n",
    "\n",
    "print(output)"
   ]
  },
  {
   "cell_type": "code",
   "execution_count": null,
   "metadata": {},
   "outputs": [],
   "source": []
  },
  {
   "cell_type": "code",
   "execution_count": null,
   "metadata": {},
   "outputs": [],
   "source": []
  }
 ],
 "metadata": {
  "kernelspec": {
   "display_name": "Python 3",
   "language": "python",
   "name": "python3"
  },
  "language_info": {
   "codemirror_mode": {
    "name": "ipython",
    "version": 3
   },
   "file_extension": ".py",
   "mimetype": "text/x-python",
   "name": "python",
   "nbconvert_exporter": "python",
   "pygments_lexer": "ipython3",
   "version": "3.6.3"
  }
 },
 "nbformat": 4,
 "nbformat_minor": 2
}
